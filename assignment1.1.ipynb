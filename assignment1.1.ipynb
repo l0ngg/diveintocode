{
  "nbformat": 4,
  "nbformat_minor": 0,
  "metadata": {
    "colab": {
      "name": "assignment1.ipynb",
      "provenance": [],
      "collapsed_sections": []
    },
    "kernelspec": {
      "name": "python3",
      "display_name": "Python 3"
    }
  },
  "cells": [
    {
      "cell_type": "code",
      "metadata": {
        "colab": {
          "base_uri": "https://localhost:8080/",
          "height": 610
        },
        "id": "KW_yRYPHP-da",
        "outputId": "5fc683a1-44a1-4f55-b924-90b4a26abc4e"
      },
      "source": [
        "## PROBLEM 1 : Calculate and graph the number of rice grain and graphing it\r\n",
        "import matplotlib.pyplot as plt\r\n",
        "\r\n",
        "## Initializing some variable needed for the problem\r\n",
        "INIT_RICE = 1\r\n",
        "day = 100\r\n",
        "\r\n",
        "# A list for keeping the number of rice you get one day\r\n",
        "lst = []\r\n",
        "lst.append(INIT_RICE)\r\n",
        "\r\n",
        "# A list for keeping the total number of rice by a certain day\r\n",
        "lst_total = []\r\n",
        "lst_total.append(INIT_RICE)\r\n",
        "\r\n",
        "# Multiply the number of grain of rice by 2 for every day after the first one\r\n",
        "for i in range(day-1):\r\n",
        "  lst.append( lst[-1] * 2 )\r\n",
        "  lst_total.append( lst_total[-1] + lst[-1] )\r\n",
        "\r\n",
        "print(len(lst))\r\n",
        "print(\"The total number of rice grain gained over {} days is: \".format(day), lst_total[-1])\r\n",
        "\r\n",
        "# ploting the rice count into a line graph\r\n",
        "%matplotlib inline\r\n",
        "plt.title(\"Number of rice received on a certain day\")\r\n",
        "plt.xlabel(\"number of days\")\r\n",
        "plt.ylabel(\"number of rice received\")\r\n",
        "plt.plot(lst)\r\n",
        "plt.show()\r\n",
        "\r\n",
        "plt.title(\"Total number of rice received until that day\")\r\n",
        "plt.xlabel(\"number of days\")\r\n",
        "plt.ylabel(\"total number of rice received\")\r\n",
        "plt.plot(lst_total)\r\n",
        "plt.show()"
      ],
      "execution_count": 5,
      "outputs": [
        {
          "output_type": "stream",
          "text": [
            "100\n",
            "The total number of rice grain gained over 100 days is:  1267650600228229401496703205375\n"
          ],
          "name": "stdout"
        },
        {
          "output_type": "display_data",
          "data": {
            "image/png": "[encoded data removed]",
            "text/plain": [
              "<Figure size 432x288 with 1 Axes>"
            ]
          },
          "metadata": {
            "tags": [],
            "needs_background": "light"
          }
        },
        {
          "output_type": "display_data",
          "data": {
            "image/png": "[encoded data removed]",
            "text/plain": [
              "<Figure size 432x288 with 1 Axes>"
            ]
          },
          "metadata": {
            "tags": [],
            "needs_background": "light"
          }
        }
      ]
    },
    {
      "cell_type": "code",
      "metadata": {
        "colab": {
          "base_uri": "https://localhost:8080/"
        },
        "id": "wDiYMDnrWWYJ",
        "outputId": "2c845ca8-31a7-401a-8f7b-14522ea1caf4"
      },
      "source": [
        "## PROBLEM 2: A function for calculating the Soro Shinzaemon problem\r\n",
        "def compute_sorori_shinzaemon(day=100):\r\n",
        "  \"\"\"\r\n",
        "  A function that verifies the anecdote of rice by Sorori Shinzaemon. Calculate the number of rice grains per day.\r\n",
        "  Parameteres\r\n",
        "  --------------\r\n",
        "  day: int\r\n",
        "      Number of days to get rice (default : 100)\r\n",
        "  Returns\r\n",
        "  --------------\r\n",
        "  list_n_grains : list\r\n",
        "      List of the number of rice you get one day (the length of the list is equal to day)\r\n",
        "  list_total_grains : list\r\n",
        "      List of the total number of rice you will receive by a certain day (the length of the list will be equal to day)\r\n",
        "  \"\"\"\r\n",
        "\r\n",
        "  list_n_grains = [1]\r\n",
        "  list_total_grains = [1]\r\n",
        "\r\n",
        "  # Double the number of rice on the previous day, and then save into list accordingly\r\n",
        "  for i in range(day-1):\r\n",
        "    list_n_grains.append( list_n_grains[-1] * 2 )\r\n",
        "    list_total_grains.append( list_total_grains[-1] + list_n_grains[-1] )\r\n",
        "\r\n",
        "  return list_n_grains, list_total_grains\r\n",
        "\r\n",
        "list_n_grains, list_total_grains = compute_sorori_shinzaemon(day=82)\r\n",
        "print(\"After {} days, we can receive {} grain of rice in total\".format(82,list_total_grains[-1]))"
      ],
      "execution_count": null,
      "outputs": [
        {
          "output_type": "stream",
          "text": [
            "After 82 days, we can receive 4835703278458516698824703 grain of rice in total\n"
          ],
          "name": "stdout"
        }
      ]
    },
    {
      "cell_type": "code",
      "metadata": {
        "id": "NAv3H6Defq4J",
        "colab": {
          "base_uri": "https://localhost:8080/"
        },
        "outputId": "4d163c8f-f3d0-47a9-8670-3d4b9b35f966"
      },
      "source": [
        "## PROBLEM 3: HOW MANY PEOPLE CAN WE FEED WITH A GIVEN NUMBER OF RICE GRAIN\r\n",
        "\r\n",
        "def compute_lifespan(number_of_rice_grain = 100, number_of_people = 1):\r\n",
        "  \"\"\"\r\n",
        "    A function for calculating the number of days a given number of people can survive on a given number of rice grain\r\n",
        "\r\n",
        "    Paramters:\r\n",
        "    -------------\r\n",
        "    number_of_rice_grain: int (how many rice grains are given?)\r\n",
        "    number_of_people: int (how many people do we have to feed?)\r\n",
        "\r\n",
        "    Returns:\r\n",
        "    -------------\r\n",
        "    number_of_days_to_live: int (how long can they survive)\r\n",
        "\r\n",
        "\r\n",
        "    Calculation:\r\n",
        "    -------------\r\n",
        "    According to:\r\n",
        "    https://www.verywellfit.com/rice-nutrition-facts-calories-and-health-benefits-4119792\r\n",
        "    Each 186 gram of rice contains 242 calories\r\n",
        "    giving us 242/186 = = 1.30107527 (calories per 1 gram of rice)\r\n",
        "    According to:\r\n",
        "    https://www.reference.com/world-view/much-single-grain-rice-weigh-c39a20469d3fe660\r\n",
        "    Each rice grain weights 1/64 of a gram, meaning 1 rice = 0.015625 gram\r\n",
        "    using these info we can calculate that a rice grain will contain: 0.015625 * 1.30107527 = 0.02032930109 (calories per 1 rice grain)\r\n",
        "\r\n",
        "    According to:\r\n",
        "    https://www.livestrong.com/article/310517-minimum-amount-of-calories-needed-per-day-to-survive/\r\n",
        "    Human need 2000(female) to 2400(male) calories per day to maintain their weigth and health\r\n",
        "    But we could go lower than that\r\n",
        "    We could survive on 1200(female) to 1500(male) calories per day to not die\r\n",
        "    Assuming the population has an even ammount of male and female, we will use the average between the 2 consumption rate\r\n",
        "    (1200 + 1500) / 2 = 1350 calories\r\n",
        "    so we can conclude that each person need 1350 / 0.02032930109 = 66407 rice grain per day\r\n",
        "\r\n",
        "    Making our final formulation is:\r\n",
        "    number of days = rice ammount / 66407 / number of people\r\n",
        "  \"\"\"\r\n",
        "  return int((number_of_rice_grain / 66407) / number_of_people)\r\n",
        "\r\n",
        "rice_number = 1000000000\r\n",
        "population = 122\r\n",
        "print( \"{} people can survive on {} rice grains for {} days\".format(population ,rice_number ,compute_lifespan(rice_number, population)))"
      ],
      "execution_count": 26,
      "outputs": [
        {
          "output_type": "stream",
          "text": [
            "122 people can survive on 1000000000 rice grains for 123 days\n"
          ],
          "name": "stdout"
        }
      ]
    }
  ]
}