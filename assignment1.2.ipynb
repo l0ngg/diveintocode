{
  "nbformat": 4,
  "nbformat_minor": 0,
  "metadata": {
    "colab": {
      "name": "Untitled0.ipynb",
      "provenance": [],
      "collapsed_sections": [],
      "authorship_tag": "ABX9TyPSDxzap8nJ5YIzUlbe1mqF"
    },
    "kernelspec": {
      "name": "python3",
      "display_name": "Python 3"
    }
  },
  "cells": [
    {
      "cell_type": "code",
      "metadata": {
        "colab": {
          "base_uri": "https://localhost:8080/"
        },
        "id": "7QwQ79orXG60",
        "outputId": "6d30597d-c376-42c3-f853-a38e0d07235f"
      },
      "source": [
        "#PROBLEM 1: minimum folds to reach mt.fuji\r\n",
        "import math\r\n",
        "\r\n",
        "THICKNESS = 0.00008\r\n",
        "FUJI = 3776\r\n",
        "print( \"The piece of paper needed to be folded {} times to exceed the height of mount Fuji\".format(int(math.log(FUJI/THICKNESS,2) + 1)) )"
      ],
      "execution_count": 31,
      "outputs": [
        {
          "output_type": "stream",
          "text": [
            "The piece of paper needed to be folded 26 times to exceed the height of mount Fuji\n"
          ],
          "name": "stdout"
        }
      ]
    },
    {
      "cell_type": "code",
      "metadata": {
        "colab": {
          "base_uri": "https://localhost:8080/"
        },
        "id": "loGlTreWYmlU",
        "outputId": "4859a679-d697-4024-a392-66b6f4721b86"
      },
      "source": [
        "#PROBLEM 2: function for folding paper\r\n",
        "def compute_fold_time(thickness = 0.00008, distance = 3776):\r\n",
        "  \"\"\"\r\n",
        "  a function for calculating the number of times you need to fold a piece of paper to reach a certain distance\r\n",
        "  \"\"\"\r\n",
        "  return int(math.log(distance/thickness,2) + 1)\r\n",
        "\r\n",
        "#Closest non-Sun star is the Alpha Centauri pair, which is 4.3 lightyear away from earth\r\n",
        "#converting it to meter:\r\n",
        "alpha_cen = 4.3 * 9.461e+15\r\n",
        "\r\n",
        "print( \"The piece of paper needed to be folded {} times to exceed the height {}\".format(compute_fold_time(0.00008, alpha_cen),alpha_cen))"
      ],
      "execution_count": 19,
      "outputs": [
        {
          "output_type": "stream",
          "text": [
            "The piece of paper needed to be folded 69 times to exceed the height 4.06823e+16\n"
          ],
          "name": "stdout"
        }
      ]
    },
    {
      "cell_type": "code",
      "metadata": {
        "colab": {
          "base_uri": "https://localhost:8080/"
        },
        "id": "lgH7KGv6abQV",
        "outputId": "26d03bd7-ed50-4bc7-a9a2-fce595d24f41"
      },
      "source": [
        "#PROBLEM 3: function to calculate the length required to fold\r\n",
        "def compute_length(thickness, fold_time ):\r\n",
        "  \"\"\"\r\n",
        "  a function for calculating the length required for a piece of paper with certain thickness to be folded a number of time\r\n",
        "  \"\"\"\r\n",
        "  return (math.pi * thickness / 6)*(2**fold_time + 4)*(2**fold_time - 1)\r\n",
        "\r\n",
        "print(\"A piece of paper needs to have the length of {} meters to be folded until it exceed the height Mount Fuji\".format(compute_length(0.00008,26)))\r\n",
        "\r\n",
        "print(\"A piece of paper needs to have the length of {} meters to be folded until exceed the distance from Earth to Alpha Centuri\".format(compute_length(0.00008,69)))\r\n",
        "\r\n",
        "print(\"A piece of paper needs to have the length of {} meters to be folded until exceed the distance from Earth to The Moon\".\r\n",
        "      format( compute_length(0.00008, compute_fold_time(0.00008, 384400000))))"
      ],
      "execution_count": 37,
      "outputs": [
        {
          "output_type": "stream",
          "text": [
            "A piece of paper needs to have the length of 188646348487.24017 meters to be folded until it exceed the height Mount Fuji\n",
            "A piece of paper needs to have the length of 1.4595803601100348e+37 meters to be folded until exceed the distance from Earth to Alpha Centuri\n",
            "A piece of paper needs to have the length of 3.240919444170781e+21 meters to be folded until exceed the distance from Earth to The Moon\n"
          ],
          "name": "stdout"
        }
      ]
    }
  ]
}