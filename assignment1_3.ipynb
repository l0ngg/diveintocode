{
  "nbformat": 4,
  "nbformat_minor": 0,
  "metadata": {
    "colab": {
      "name": "assignment1.3.ipynb",
      "provenance": [],
      "collapsed_sections": [],
      "authorship_tag": "ABX9TyNfs0x6RYZQTfNyllx3uAvy",
      "include_colab_link": true
    },
    "kernelspec": {
      "name": "python3",
      "display_name": "Python 3"
    }
  },
  "cells": [
    {
      "cell_type": "markdown",
      "metadata": {
        "id": "view-in-github",
        "colab_type": "text"
      },
      "source": [
        "<a href=\"https://colab.research.google.com/github/l0ngg/diveintocode/blob/master/assignment1_3.ipynb\" target=\"_parent\"><img src=\"https://colab.research.google.com/assets/colab-badge.svg\" alt=\"Open In Colab\"/></a>"
      ]
    },
    {
      "cell_type": "markdown",
      "metadata": {
        "id": "uBAHC7POdNXs"
      },
      "source": [
        "**The Dorayaki Problem**\r\n",
        "\r\n",
        "given the volume of a Dorayaki, and knowing that it will double(x2) itself every 5 minutes\r\n",
        "given the volume of our solar system\r\n",
        "\r\n",
        "This problem is to calculate the time needed for the volume of all Dorayaki to cover the entire solar system\r\n",
        "\r\n",
        "So a program is created to calculate the amount of time needed for an object with '*a*' volume with the growth speed of x2 per 5 minutes to entirely cover an object with '*b*' volume"
      ]
    },
    {
      "cell_type": "code",
      "metadata": {
        "id": "pa4KRYu-1DU1",
        "colab": {
          "base_uri": "https://localhost:8080/",
          "height": 350
        },
        "outputId": "703086d4-5291-4acd-ebde-f93a4a88d24e"
      },
      "source": [
        "import math\r\n",
        "import matplotlib.pyplot as plt\r\n",
        "DIAMETER_OF_SOLAR_SYSTEM = 2874600000000 ## (2.8746 billion km converted into meters)\r\n",
        "VOLUME_SOLAR = (4/3) * (math.pi) * ((DIAMETER_OF_SOLAR_SYSTEM / 2)**3)\r\n",
        "\r\n",
        "# assuming the volume of a dorayaki\r\n",
        "VOLUME_OF_DORAYAKI = 0.2\r\n",
        "\r\n",
        "def compute_time(volume_a, volume_b):\r\n",
        "  \"\"\"\r\n",
        "  Parameters : \r\n",
        "  ----------\r\n",
        "  volume_a : the volume of the small object\r\n",
        "  volume_b : the volume of the bigger object\r\n",
        "\r\n",
        "  Return:\r\n",
        "  -------------\r\n",
        "  The amount of time needed for the volume_a object to entirely cover object_b\r\n",
        "  \"\"\"\r\n",
        "\r\n",
        "  vol = volume_a\r\n",
        "  \r\n",
        "  #this list is used to show the percentage of the volume_b is convered in volume_a objects\r\n",
        "  lst = []\r\n",
        "  lst.append(vol/volume_b)\r\n",
        "  \r\n",
        "  while vol < volume_b:\r\n",
        "    vol = vol*2\r\n",
        "    lst.append(vol/volume_b)\r\n",
        "\r\n",
        "  \r\n",
        "  print(\"The dorayaki doubled {} times\".format(len(lst)-1))\r\n",
        "  #calculating the time\r\n",
        "  time = (len(lst)-1)*5\r\n",
        "  print(\"That took {} minutes\".format(time))\r\n",
        "\r\n",
        "  plt.title(\"Percentage of the Solar system covered in dorayaki over time\")\r\n",
        "  plt.xlabel(\"multiple of 5 minutes\")\r\n",
        "  plt.ylabel(\"percentage of dorayaki\")\r\n",
        "  plt.plot(lst)\r\n",
        "  plt.show()\r\n",
        "\r\n",
        "  return time\r\n",
        "\r\n",
        "\r\n",
        "compute_time(VOLUME_OF_DORAYAKI, VOLUME_SOLAR)"
      ],
      "execution_count": 23,
      "outputs": [
        {
          "output_type": "stream",
          "text": [
            "The dorayaki doubled 126 times\n",
            "That took 630 minutes\n"
          ],
          "name": "stdout"
        },
        {
          "output_type": "display_data",
          "data": {
            "image/png": "[encoded data removed]",
            "text/plain": [
              "<Figure size 432x288 with 1 Axes>"
            ]
          },
          "metadata": {
            "tags": [],
            "needs_background": "light"
          }
        },
        {
          "output_type": "execute_result",
          "data": {
            "text/plain": [
              "630"
            ]
          },
          "metadata": {
            "tags": []
          },
          "execution_count": 23
        }
      ]
    }
  ]
}