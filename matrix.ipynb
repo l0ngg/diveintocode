{
  "nbformat": 4,
  "nbformat_minor": 0,
  "metadata": {
    "colab": {
      "name": "matrix.ipynb",
      "provenance": [],
      "authorship_tag": "ABX9TyMpY3E8fhKJBjBDn2iIxaHZ",
      "include_colab_link": true
    },
    "kernelspec": {
      "name": "python3",
      "display_name": "Python 3"
    },
    "language_info": {
      "name": "python"
    }
  },
  "cells": [
    {
      "cell_type": "markdown",
      "metadata": {
        "id": "view-in-github",
        "colab_type": "text"
      },
      "source": [
        "<a href=\"https://colab.research.google.com/github/l0ngg/diveintocode/blob/master/matrix.ipynb\" target=\"_parent\"><img src=\"https://colab.research.google.com/assets/colab-badge.svg\" alt=\"Open In Colab\"/></a>"
      ]
    },
    {
      "cell_type": "markdown",
      "metadata": {
        "id": "jCF590DYrNUC"
      },
      "source": [
        "for calculating the matrix product, i used two nested loop with 'i' and 'j' to loop through every position of the product matrix, with i being the row value and j being the column value\n",
        "\n",
        "so for result matrix[0][0] it will be the sum of:\n",
        "\n",
        "\n",
        "```\n",
        "a[0][0]*b[0][0] + a[0][1]*b[1][0] + a[0][2]*b[2][0]\n",
        "```\n",
        "\n",
        "meaning we need to use a third looping number for this adition calculation\n",
        "hence, in my code below, the multiplication is calculated using 3 nesting loops\n",
        "\n"
      ]
    },
    {
      "cell_type": "code",
      "metadata": {
        "colab": {
          "base_uri": "https://localhost:8080/"
        },
        "id": "R6gYppEcnI95",
        "outputId": "4c36f0cf-aa70-4023-e348-73ad192acee1"
      },
      "source": [
        "#[Problem 1] Matrix product is calculated manually\n",
        "import numpy as np\n",
        "\n",
        "a_ndarray = np.array([[-1, 2, 3], [4, -5, 6], [7, 8, -9]])\n",
        "b_ndarray = np.array([[0, 2, 1], [0, 2, -8], [2, 9, -1]])\n",
        "result = np.array([[0,0,0],[0,0,0],[0,0,0]])\n",
        "\n",
        "for i in range(3): #(row)\n",
        "  for j in range(3): #(column)\n",
        "    for k in range(3):\n",
        "      result[i][j] += a_ndarray[i][k] * b_ndarray[k][j]\n",
        "\n",
        "print(\"matrix multiplication result: \\n\",result)"
      ],
      "execution_count": 5,
      "outputs": [
        {
          "output_type": "stream",
          "text": [
            "matrix multiplication result: \n",
            " [[  6  29 -20]\n",
            " [ 12  52  38]\n",
            " [-18 -51 -48]]\n"
          ],
          "name": "stdout"
        }
      ]
    },
    {
      "cell_type": "code",
      "metadata": {
        "colab": {
          "base_uri": "https://localhost:8080/"
        },
        "id": "EyFlG6YOqICx",
        "outputId": "2c3badd9-4cb0-4916-c5ea-7fa712723804"
      },
      "source": [
        "#[Problem 2] Calculation by NumPy function\n",
        "import numpy as np\n",
        "a_ndarray = np.array([[-1, 2, 3], [4, -5, 6], [7, 8, -9]])\n",
        "b_ndarray = np.array([[0, 2, 1], [0, 2, -8], [2, 9, -1]])\n",
        "\n",
        "print(\"the product of matrix A and matrix B is:\")\n",
        "result = np.matmul(a_ndarray,b_ndarray)\n",
        "print(result)\n",
        "\n",
        "result = np.dot(a_ndarray, b_ndarray)\n",
        "print(result)\n",
        "\n",
        "result = a_ndarray@b_ndarray\n",
        "print(result)"
      ],
      "execution_count": 10,
      "outputs": [
        {
          "output_type": "stream",
          "text": [
            "the product of matrix A and matrix B is:\n",
            "[[  6  29 -20]\n",
            " [ 12  52  38]\n",
            " [-18 -51 -48]]\n",
            "[[  6  29 -20]\n",
            " [ 12  52  38]\n",
            " [-18 -51 -48]]\n",
            "[[  6  29 -20]\n",
            " [ 12  52  38]\n",
            " [-18 -51 -48]]\n"
          ],
          "name": "stdout"
        }
      ]
    },
    {
      "cell_type": "code",
      "metadata": {
        "colab": {
          "base_uri": "https://localhost:8080/"
        },
        "id": "CDc70cKjtTTW",
        "outputId": "ab5c411a-ba48-4f4f-e0ac-e5d0d6d2aa38"
      },
      "source": [
        "#[Problem 3] Implementation of calculation of a certain element\n",
        "sum = 0\n",
        "\n",
        "for i in range(3):\n",
        "  sum += a_ndarray[0][i] + b_ndarray[i][0]\n",
        "\n",
        "print(\"The result is: {}\".format(sum))"
      ],
      "execution_count": 13,
      "outputs": [
        {
          "output_type": "stream",
          "text": [
            "The result is: 6\n"
          ],
          "name": "stdout"
        }
      ]
    },
    {
      "cell_type": "code",
      "metadata": {
        "colab": {
          "base_uri": "https://localhost:8080/"
        },
        "id": "Ps6G9EOGyS3X",
        "outputId": "85244351-8fa2-47f6-d488-806ac8e0ca12"
      },
      "source": [
        "#[Problem 4] Creating a function that performs matrix multiplication\n",
        "import numpy as np\n",
        "\n",
        "a_ndarray = np.array([[-1, 2, 3], [4, -5, 6], [7, 8, -9]])\n",
        "b_ndarray = np.array([[0, 2, 1], [0, 2, -8], [2, 9, -1]])\n",
        "\n",
        "def matrix_mul(a, b):\n",
        "  aa_ndarray = a\n",
        "  bb_ndarray = b\n",
        "\n",
        "  #getting the required dimensions\n",
        "  column_count = len(b[0])\n",
        "  row_count = len(a)\n",
        "  auxiliary = len(a[0])\n",
        "\n",
        "  res = np.array([ [0]*column_count for i in range(row_count)])\n",
        "\n",
        "  for i in range(row_count): #(row)\n",
        "    for j in range(column_count): #(column)\n",
        "      for k in range(auxiliary):\n",
        "        res[i][j] += aa_ndarray[i][k] * bb_ndarray[k][j]\n",
        "  return res\n",
        "\n",
        "print(\"matrix multiplication result: \\n\",matrix_mul(a_ndarray, b_ndarray))"
      ],
      "execution_count": 30,
      "outputs": [
        {
          "output_type": "stream",
          "text": [
            "matrix multiplication result: \n",
            " [[  6  29 -20]\n",
            " [ 12  52  38]\n",
            " [-18 -51 -48]]\n"
          ],
          "name": "stdout"
        }
      ]
    },
    {
      "cell_type": "code",
      "metadata": {
        "colab": {
          "base_uri": "https://localhost:8080/"
        },
        "id": "ZoUMspIwz0Xa",
        "outputId": "2de4e76c-8057-44e6-cc4b-106f19e57ca8"
      },
      "source": [
        "#[Problem 5] Judge the input whose calculation is not defined\n",
        "import numpy as np\n",
        "\n",
        "a_ndarray = np.array([[-1, 2, 3], [4, -5, 6], [7, 8, -9]])\n",
        "b_ndarray = np.array([[0, 2, 1], [0, 2, -8], [2, 9, -1]])\n",
        "\n",
        "\n",
        "def matrix_mul2(a, b):\n",
        "  aa_ndarray = a\n",
        "  bb_ndarray = b\n",
        "\n",
        "  #getting the required dimensions\n",
        "  column_count = len(b[0])\n",
        "  row_count = len(a)\n",
        "\n",
        "  #check for undefined inputs\n",
        "  column_a = len(a[0])\n",
        "  row_b = len(b)\n",
        "\n",
        "  if (column_a != row_b):\n",
        "    print(\"The input matrixcies are not defined\")\n",
        "    return\n",
        "\n",
        "  res = np.array([ [0]*column_count for i in range(row_count)])\n",
        "\n",
        "  for i in range(row_count): #(row)\n",
        "    for j in range(column_count): #(column)\n",
        "      for k in range(row_b):\n",
        "        res[i][j] += aa_ndarray[i][k] * bb_ndarray[k][j]\n",
        "  return res\n",
        "\n",
        "\n",
        "d_ndarray = np.array([[-1, 2, 3], [4, -5, 6]])\n",
        "e_ndarray = np.array([[-9, 8, 7], [6, -5, 4]])\n",
        "\n",
        "matrix_mul2(d_ndarray, e_ndarray)"
      ],
      "execution_count": 36,
      "outputs": [
        {
          "output_type": "stream",
          "text": [
            "The input matrixcies are not defined\n"
          ],
          "name": "stdout"
        }
      ]
    },
    {
      "cell_type": "code",
      "metadata": {
        "colab": {
          "base_uri": "https://localhost:8080/"
        },
        "id": "lyi8i5CM3Maq",
        "outputId": "588510f7-6947-4a7d-b49b-75e6b6d8947b"
      },
      "source": [
        "#[Problem 6] Transposition\n",
        "print(\"result of tranposed d matrix multiply e matrix\",matrix_mul2(d_ndarray.T, e_ndarray))\n",
        "print(\"result of tranposed d multiply e tranposed matrix\",matrix_mul2(d_ndarray, e_ndarray.T))"
      ],
      "execution_count": 43,
      "outputs": [
        {
          "output_type": "stream",
          "text": [
            "result of tranposed d matrix multiply e matrix [[ 33 -28   9]\n",
            " [-48  41  -6]\n",
            " [  9  -6  45]]\n",
            "result of tranposed d multiply e tranposed matrix [[ 46  -4]\n",
            " [-34  73]]\n"
          ],
          "name": "stdout"
        }
      ]
    }
  ]
}