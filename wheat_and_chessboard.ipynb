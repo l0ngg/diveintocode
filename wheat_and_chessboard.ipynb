{
  "nbformat": 4,
  "nbformat_minor": 0,
  "metadata": {
    "colab": {
      "name": "wheat and chessboard.ipynb",
      "provenance": [],
      "collapsed_sections": [],
      "authorship_tag": "ABX9TyN9yYcrVy04B29CL01Zv8cN",
      "include_colab_link": true
    },
    "kernelspec": {
      "name": "python3",
      "display_name": "Python 3"
    }
  },
  "cells": [
    {
      "cell_type": "markdown",
      "metadata": {
        "id": "view-in-github",
        "colab_type": "text"
      },
      "source": [
        "<a href=\"https://colab.research.google.com/github/l0ngg/diveintocode/blob/master/wheat_and_chessboard.ipynb\" target=\"_parent\"><img src=\"https://colab.research.google.com/assets/colab-badge.svg\" alt=\"Open In Colab\"/></a>"
      ]
    },
    {
      "cell_type": "code",
      "metadata": {
        "colab": {
          "base_uri": "https://localhost:8080/"
        },
        "id": "_o8WS6a8bA4v",
        "outputId": "b9f52ab0-1d63-44f7-d9e2-a70955f9caf0"
      },
      "source": [
        "## [Problem 1] Number of wheat on a 2 x 2 square chess board\n",
        "import numpy as np\n",
        "\n",
        "n_squares = 4\n",
        "small_board_list = [1]\n",
        "for _ in range(n_squares - 1):\n",
        "    small_board_list.append(2*small_board_list[-1])\n",
        "\n",
        "small_board_ndarray = np.array(small_board_list).reshape(2,2)\n",
        "print(\"Arrange wheat on a plate of 2x2 squares (ndarray)：\\n{}\".format(small_board_ndarray))"
      ],
      "execution_count": null,
      "outputs": [
        {
          "output_type": "stream",
          "text": [
            "Arrange wheat on a plate of 2x2 squares (ndarray)：\n",
            "[[1 2]\n",
            " [4 8]]\n"
          ],
          "name": "stdout"
        }
      ]
    },
    {
      "cell_type": "code",
      "metadata": {
        "colab": {
          "base_uri": "https://localhost:8080/"
        },
        "id": "6-rE6_ZXcZqX",
        "outputId": "3716becd-56c6-46ed-a653-96199f40d667"
      },
      "source": [
        "## [Problem 2] Expansion to n × m mass\n",
        "def chessboard_gen(a = 2, b = 2):\n",
        "  board_list = [1]\n",
        "  for _ in range( a * b - 1):\n",
        "    board_list.append( 2*board_list[-1] )\n",
        "\n",
        "  return np.array(board_list).reshape(a,b)\n",
        "\n",
        "print(\"The wheat ammounts on a 8x8 chessboard:\")\n",
        "eight_by_eight = chessboard_gen(8,8)\n",
        "print(eight_by_eight)"
      ],
      "execution_count": null,
      "outputs": [
        {
          "output_type": "stream",
          "text": [
            "The wheat ammounts on a 8x8 chessboard:\n",
            "[[1.00000000e+00 2.00000000e+00 4.00000000e+00 8.00000000e+00\n",
            "  1.60000000e+01 3.20000000e+01 6.40000000e+01 1.28000000e+02]\n",
            " [2.56000000e+02 5.12000000e+02 1.02400000e+03 2.04800000e+03\n",
            "  4.09600000e+03 8.19200000e+03 1.63840000e+04 3.27680000e+04]\n",
            " [6.55360000e+04 1.31072000e+05 2.62144000e+05 5.24288000e+05\n",
            "  1.04857600e+06 2.09715200e+06 4.19430400e+06 8.38860800e+06]\n",
            " [1.67772160e+07 3.35544320e+07 6.71088640e+07 1.34217728e+08\n",
            "  2.68435456e+08 5.36870912e+08 1.07374182e+09 2.14748365e+09]\n",
            " [4.29496730e+09 8.58993459e+09 1.71798692e+10 3.43597384e+10\n",
            "  6.87194767e+10 1.37438953e+11 2.74877907e+11 5.49755814e+11]\n",
            " [1.09951163e+12 2.19902326e+12 4.39804651e+12 8.79609302e+12\n",
            "  1.75921860e+13 3.51843721e+13 7.03687442e+13 1.40737488e+14]\n",
            " [2.81474977e+14 5.62949953e+14 1.12589991e+15 2.25179981e+15\n",
            "  4.50359963e+15 9.00719925e+15 1.80143985e+16 3.60287970e+16]\n",
            " [7.20575940e+16 1.44115188e+17 2.88230376e+17 5.76460752e+17\n",
            "  1.15292150e+18 2.30584301e+18 4.61168602e+18 9.22337204e+18]]\n"
          ],
          "name": "stdout"
        }
      ]
    },
    {
      "cell_type": "code",
      "metadata": {
        "colab": {
          "base_uri": "https://localhost:8080/",
          "height": 350
        },
        "id": "SePvNUp0dhNM",
        "outputId": "1a2bd5db-d3b6-441a-b80a-d0d4a7cb4cc7"
      },
      "source": [
        "###[Problem 3] Total number of wheat\n",
        "print(\"The total number of wheat is {}\".format(eight_by_eight.sum())) # 15\n",
        "\n",
        "\n",
        "#axis = 0 means average of each columns only\n",
        "temp = np.average(eight_by_eight, axis = 0)\n",
        "print(\"The average of the columns is: \" , temp)\n",
        "\n",
        "import matplotlib.pyplot as plt\n",
        "%matplotlib inline\n",
        "plt.xlabel(\"column number\")\n",
        "plt.ylabel(\"average number of wheat\")\n",
        "plt.title(\"average wheat number in each column\")\n",
        "plt.bar(np.arange(1,9), temp)\n",
        "plt.show()"
      ],
      "execution_count": null,
      "outputs": [
        {
          "output_type": "stream",
          "text": [
            "The total number of wheat is 1.8446744073709552e+19\n",
            "The average of the columns is:  [9.04252160e+15 1.80850432e+16 3.61700864e+16 7.23401728e+16\n",
            " 1.44680346e+17 2.89360691e+17 5.78721383e+17 1.15744277e+18]\n"
          ],
          "name": "stdout"
        },
        {
          "output_type": "display_data",
          "data": {
            "image/png": "[encoded data removed]",
            "text/plain": [
              "<Figure size 432x288 with 1 Axes>"
            ]
          },
          "metadata": {
            "tags": [],
            "needs_background": "light"
          }
        }
      ]
    },
    {
      "cell_type": "code",
      "metadata": {
        "colab": {
          "base_uri": "https://localhost:8080/",
          "height": 295
        },
        "id": "3AgE5csahwvJ",
        "outputId": "3b33b777-cc87-481c-a498-c04d6513f0d7"
      },
      "source": [
        "#### [Problem 4] Heat map of the number of wheat\n",
        "plt.xlabel(\"column\")\n",
        "plt.ylabel(\"row\")\n",
        "plt.title(\"heatmap\")\n",
        "plt.pcolor( eight_by_eight )\n",
        "plt.show()\n",
        "# purple means few wheat\n",
        "# yellow means meany wheat"
      ],
      "execution_count": null,
      "outputs": [
        {
          "output_type": "display_data",
          "data": {
            "image/png": "[encoded data removed]",
            "text/plain": [
              "<Figure size 432x288 with 1 Axes>"
            ]
          },
          "metadata": {
            "tags": [],
            "needs_background": "light"
          }
        }
      ]
    },
    {
      "cell_type": "code",
      "metadata": {
        "colab": {
          "base_uri": "https://localhost:8080/"
        },
        "id": "HUO2Bg8yi2wX",
        "outputId": "fd1b4f42-6d48-436e-d76a-331e332d70c4"
      },
      "source": [
        "#[Problem 5] How many times is the second half as long as the first half?\n",
        "first_half = eight_by_eight[0:4].sum()\n",
        "second_half = eight_by_eight[4:8].sum()\n",
        "\n",
        "print(\"The second half of the chessboard is {} times greater than the first half of the chessboard\".format(second_half/first_half))"
      ],
      "execution_count": null,
      "outputs": [
        {
          "output_type": "stream",
          "text": [
            "The second half of the chessboard is 4294967296.0 times greater than the first half of the chessboard\n"
          ],
          "name": "stdout"
        }
      ]
    },
    {
      "cell_type": "code",
      "metadata": {
        "colab": {
          "base_uri": "https://localhost:8080/"
        },
        "id": "vc14oBgflw3w",
        "outputId": "a1dc56c9-6c6f-4d6b-940f-4aa707b80e9a"
      },
      "source": [
        "### [Problem 6] Expansion to n × m mass by another calculation method\n",
        "def broadcast_wheat(n = 2, m = 2):  \n",
        "  n_squares = n*m\n",
        "\n",
        "  indices_of_squares = np.arange(n_squares).astype(np.uint64)\n",
        "  board_ndarray = 2**indices_of_squares\n",
        "\n",
        "  return board_ndarray\n",
        "\n",
        "def append_wheat(n = 2, m = 2):\n",
        "  n_squares = n*m\n",
        "  board_ndarray = np.array([1])\n",
        "  for _ in range(n_squares - 1):\n",
        "      board_ndarray = np.append(board_ndarray, 2*board_ndarray[-1]).astype(np.uint64)\n",
        "\n",
        "  return board_ndarray\n",
        "\n",
        "booard1 = broadcast_wheat(8,8)\n",
        "print(\"Arrange wheat on a plate of 64 squares via np.append() {}\".format(booard1))\n",
        "\n",
        "booard2 = append_wheat(8,8)\n",
        "print(\"Arrange wheat on a plate of 64 squares via np.append() {}\".format(booard2))"
      ],
      "execution_count": null,
      "outputs": [
        {
          "output_type": "stream",
          "text": [
            "Arrange wheat on a plate of 64 squares via np.append() [                  1                   2                   4\n",
            "                   8                  16                  32\n",
            "                  64                 128                 256\n",
            "                 512                1024                2048\n",
            "                4096                8192               16384\n",
            "               32768               65536              131072\n",
            "              262144              524288             1048576\n",
            "             2097152             4194304             8388608\n",
            "            16777216            33554432            67108864\n",
            "           134217728           268435456           536870912\n",
            "          1073741824          2147483648          4294967296\n",
            "          8589934592         17179869184         34359738368\n",
            "         68719476736        137438953472        274877906944\n",
            "        549755813888       1099511627776       2199023255552\n",
            "       4398046511104       8796093022208      17592186044416\n",
            "      35184372088832      70368744177664     140737488355328\n",
            "     281474976710656     562949953421312    1125899906842624\n",
            "    2251799813685248    4503599627370496    9007199254740992\n",
            "   18014398509481984   36028797018963968   72057594037927936\n",
            "  144115188075855872  288230376151711744  576460752303423488\n",
            " 1152921504606846976 2305843009213693952 4611686018427387904\n",
            " 9223372036854775808]\n",
            "Arrange wheat on a plate of 64 squares via np.append() [                  1                   2                   4\n",
            "                   8                  16                  32\n",
            "                  64                 128                 256\n",
            "                 512                1024                2048\n",
            "                4096                8192               16384\n",
            "               32768               65536              131072\n",
            "              262144              524288             1048576\n",
            "             2097152             4194304             8388608\n",
            "            16777216            33554432            67108864\n",
            "           134217728           268435456           536870912\n",
            "          1073741824          2147483648          4294967296\n",
            "          8589934592         17179869184         34359738368\n",
            "         68719476736        137438953472        274877906944\n",
            "        549755813888       1099511627776       2199023255552\n",
            "       4398046511104       8796093022208      17592186044416\n",
            "      35184372088832      70368744177664     140737488355328\n",
            "     281474976710656     562949953421312    1125899906842624\n",
            "    2251799813685248    4503599627370496    9007199254740992\n",
            "   18014398509481984   36028797018963968   72057594037927936\n",
            "  144115188075855872  288230376151711744  576460752303423488\n",
            " 1152921504606846976 2305843009213693952 4611686018427387904\n",
            " 9223372036854775808]\n"
          ],
          "name": "stdout"
        }
      ]
    },
    {
      "cell_type": "code",
      "metadata": {
        "colab": {
          "base_uri": "https://localhost:8080/"
        },
        "id": "n9Z6X_1FznY5",
        "outputId": "848f1daf-553f-46a7-8e7c-3ed8b592706c"
      },
      "source": [
        "## Geting calculation time\n",
        "import numpy as np\n",
        "def broadcast_wheat(n = 2, m = 2):  \n",
        "  n_squares = n*m\n",
        "\n",
        "  indices_of_squares = np.arange(n_squares).astype(np.uint64)\n",
        "  board_ndarray = 2**indices_of_squares\n",
        "\n",
        "  return board_ndarray\n",
        "\n",
        "def append_wheat(n = 2, m = 2):\n",
        "  n_squares = n*m\n",
        "  board_ndarray = np.array([1])\n",
        "  for _ in range(n_squares - 1):\n",
        "      board_ndarray = np.append(board_ndarray, 2*board_ndarray[-1]).astype(np.uint64)\n",
        "\n",
        "  return board_ndarray\n",
        "\n",
        "%timeit booard1 = broadcast_wheat(8,8)\n",
        "\n",
        "%timeit booard2 = append_wheat(8,8)"
      ],
      "execution_count": 2,
      "outputs": [
        {
          "output_type": "stream",
          "text": [
            "The slowest run took 952.47 times longer than the fastest. This could mean that an intermediate result is being cached.\n",
            "100000 loops, best of 5: 3.49 µs per loop\n",
            "1000 loops, best of 5: 672 µs per loop\n"
          ],
          "name": "stdout"
        }
      ]
    }
  ]
}